{
 "cells": [
  {
   "attachments": {},
   "cell_type": "markdown",
   "metadata": {},
   "source": [
    "## PMSOCR本地部署\n",
    "\n",
    "### 配置paddle环境  \n",
    "\n",
    "\n",
    "教程位置： https://github.com/PaddlePaddle/PaddleOCR/blob/release/2.6/ppstructure/docs/quickstart.md\n",
    "\n",
    "\n",
    "#### 安装PaddlePaddle"
   ]
  },
  {
   "cell_type": "code",
   "execution_count": null,
   "metadata": {},
   "outputs": [],
   "source": [
    "# cpu版本\n",
    "!python -m pip install paddlepaddle -i https://mirror.baidu.com/pypi/simple"
   ]
  },
  {
   "attachments": {},
   "cell_type": "markdown",
   "metadata": {},
   "source": [
    "#### 安装PaddleOCR whl包"
   ]
  },
  {
   "cell_type": "code",
   "execution_count": null,
   "metadata": {},
   "outputs": [],
   "source": [
    "# 安装 paddleocr，推荐使用2.6版本\n",
    "!pip3 install \"paddleocr>=2.6.0.3\" -i https://mirror.baidu.com/pypi/simple\n",
    "\n",
    "# 安装 图像方向分类依赖包paddleclas（如不需要图像方向分类功能，可跳过）\n",
    "!pip3 install paddleclas>=2.4.3 -i https://mirror.baidu.com/pypi/simple"
   ]
  },
  {
   "attachments": {},
   "cell_type": "markdown",
   "metadata": {},
   "source": [
    "#### 克隆项目文件夹"
   ]
  },
  {
   "cell_type": "code",
   "execution_count": 1,
   "metadata": {},
   "outputs": [
    {
     "name": "stdout",
     "output_type": "stream",
     "text": [
      "^C\n"
     ]
    },
    {
     "name": "stderr",
     "output_type": "stream",
     "text": [
      "Cloning into 'Paddle_Service'...\n"
     ]
    }
   ],
   "source": [
    "!git clone https://github.com/Strepsiades/Paddle_Service.git\n",
    "\n",
    "!cd Paddle_Service"
   ]
  },
  {
   "attachments": {},
   "cell_type": "markdown",
   "metadata": {},
   "source": [
    "#### 开启服务"
   ]
  },
  {
   "cell_type": "code",
   "execution_count": null,
   "metadata": {},
   "outputs": [],
   "source": [
    "# 使用flask搭建一个简单的服务器，默认端口8888\n",
    "!python pmsocr_service.py\n",
    "\n",
    "# 使用测试请求\n",
    "!python client.py\n"
   ]
  },
  {
   "attachments": {},
   "cell_type": "markdown",
   "metadata": {},
   "source": [
    "### 在Docker中部署\n",
    "\n",
    "#### 拉取Paddle默认镜像\n",
    "\n",
    "不建议使用更小的镜像，可能会报错\n",
    "\n",
    "教程：https://www.paddlepaddle.org.cn/documentation/docs/zh/install/docker/linux-docker.html#anchor-0"
   ]
  },
  {
   "cell_type": "code",
   "execution_count": null,
   "metadata": {},
   "outputs": [],
   "source": [
    "# CPU 版的 PaddlePaddle:\n",
    "!docker pull registry.baidubce.com/paddlepaddle/paddle:2.4.1"
   ]
  },
  {
   "attachments": {},
   "cell_type": "markdown",
   "metadata": {},
   "source": [
    "#### 进入交互模式配置环境"
   ]
  },
  {
   "cell_type": "code",
   "execution_count": null,
   "metadata": {},
   "outputs": [],
   "source": [
    "# 首先构建容器, 并进行端口映射\n",
    "!docker run --name -p 8888:8888 paddle_docker -it -v registry.baidubce.com/paddlepaddle/paddle:2.4.1 /bin/bash\n",
    "\n",
    "# 进入docker如本地操作\n",
    "\n",
    "# TODO 写一个服务自启动脚本\n",
    "\n",
    "# 注意service的主机一定要是0.0.0.0, 不能是localhost\n",
    "\n",
    "# 注意-it模式如果关掉所有守护程序，docker可能关闭容器。使用-dit可以避免这一点\n"
   ]
  },
  {
   "attachments": {},
   "cell_type": "markdown",
   "metadata": {},
   "source": [
    "#### 其他Docker命令\n",
    "\n",
    "```\n",
    "# 进入已开启的容器\n",
    "docker exec -i -t  paddle_docker /bin/bash\n",
    "\n",
    "# 查看已有容器\n",
    "docker ps -a\n",
    "\n",
    "```"
   ]
  },
  {
   "attachments": {},
   "cell_type": "markdown",
   "metadata": {},
   "source": [
    "### 在服务器上部署Docker\n",
    "\n",
    "#### 将本地容器导出\n",
    "\n",
    "```\n",
    "# 语法\n",
    "docker export [OPTIONS] CONTAINER\n",
    "\n",
    "# 举例\n",
    "docker export -o mysql-`date +%Y%m%d`.tar a404c6c174a2\n",
    "\n",
    "```\n",
    "\n",
    "#### 使用ftp工具将镜像\n",
    "可以使用ftp工具将镜像上传至服务器。注意根据服务器情况，一般使用sftp协议，ftp协议可能会报错\n",
    "\n",
    "#### 将打包好的tar文件还原为镜像\n",
    "```\n",
    "# 语法\n",
    "docker import [OPTIONS] file|URL|- [REPOSITORY[:TAG]]\n",
    "# 举例\n",
    "docker import  my_ubuntu_v3.tar runoob/ubuntu:v4\n",
    "```\n",
    "#### 构建Docker容器并开启服务\n",
    "同本地创建。注意，请使用-dit模式，否则服务将随着终端关闭而关闭\n",
    "\n",
    "TODO:写一个开机自动运行脚本\n",
    "\n",
    "#### 在nginx中配置端口映射\n",
    "具体来说，在etc/nginx/nginx.conf中修改配置文件\n",
    "\n",
    "在http代码块中，插入\n",
    "```\n",
    "server {\n",
    "\tlisten       120;  # 端口是自定义的，根据服务器防火墙开启情况\n",
    "\tserver_name 81.68.184.250;  #  根据服务器ip或网址\n",
    "\tclient_max_body_size 10M;  #  设置上传限制\n",
    "\tindex  index.php index.html index.htm;\n",
    "\t\n",
    "\tlocation /pmsocr/ {   # 请求只有带/pmsocr/的url才会被转发\n",
    "\t\tproxy_pass http://127.0.0.1:8888;   # 端口和paddle服务的端口对应\n",
    "\t\tproxy_set_header Host $proxy_host; # 修改转发请求头，让对应端口的应用可以受到真实的请求\n",
    "\t}\n",
    "}\n",
    "```\n",
    "\n",
    "然后重启nginx\n",
    "```\n",
    "nginx -s reload\n",
    "```\n",
    "\n",
    "\n"
   ]
  }
 ],
 "metadata": {
  "kernelspec": {
   "display_name": "paddle-gpu",
   "language": "python",
   "name": "python3"
  },
  "language_info": {
   "codemirror_mode": {
    "name": "ipython",
    "version": 3
   },
   "file_extension": ".py",
   "mimetype": "text/x-python",
   "name": "python",
   "nbconvert_exporter": "python",
   "pygments_lexer": "ipython3",
   "version": "3.7.12"
  },
  "orig_nbformat": 4,
  "vscode": {
   "interpreter": {
    "hash": "0b49137b3327d373ed62fe4bc53bf97b75cd3a7058544e767ebc07ac17024ed1"
   }
  }
 },
 "nbformat": 4,
 "nbformat_minor": 2
}
